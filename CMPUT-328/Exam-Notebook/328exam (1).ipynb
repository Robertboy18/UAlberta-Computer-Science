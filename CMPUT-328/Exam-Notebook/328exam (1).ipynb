{
  "nbformat": 4,
  "nbformat_minor": 0,
  "metadata": {
    "colab": {
      "name": "328exam.ipynb",
      "provenance": [],
      "collapsed_sections": []
    },
    "kernelspec": {
      "name": "python3",
      "display_name": "Python 3"
    }
  },
  "cells": [
    {
      "cell_type": "markdown",
      "metadata": {
        "id": "S5iOOGZsQ9PO"
      },
      "source": [
        "# **328 - Computer Vision - Final Exam**\n",
        "\n"
      ]
    },
    {
      "cell_type": "markdown",
      "metadata": {
        "id": "_lmABR_PQXWH"
      },
      "source": [
        "## **Numerical Computations**\n",
        "\n",
        "\n",
        "\n",
        "1.   Softmax function Calculator\n",
        "\n",
        "* [Calculator](https://keisan.casio.com/exec/system/15168444286206)\n",
        "\n",
        "2.   Cross Entropy Loss\n",
        "\n",
        "*   [Function](https://keisan.casio.com/exec/system/15168444286206)\n",
        "\n",
        "\n",
        "3.   Gradient Descent (Multivariable Function Calculator)\n",
        "\n",
        "*   [Function](https://colab.research.google.com/drive/1hIfhMJpiQC_le7fiSa5E0B5B-GsYE5u1#scrollTo=jgJQG1x5dQI7&line=13&uniqifier=1)\n",
        "\n",
        "4.   Convolution layer Calculation\n",
        "\n",
        "\n",
        "*   [Function for One channel](https://colab.research.google.com/drive/1hIfhMJpiQC_le7fiSa5E0B5B-GsYE5u1#scrollTo=q8UohGir4oT4&line=3&uniqifier=1)\n",
        "*   [Function for Multiple channels](https://colab.research.google.com/drive/1hIfhMJpiQC_le7fiSa5E0B5B-GsYE5u1#scrollTo=MiwYsAZ26wuk&line=12&uniqifier=1)\n",
        "\n",
        "\n",
        "\n"
      ]
    },
    {
      "cell_type": "code",
      "metadata": {
        "id": "JehlDccvOsE5"
      },
      "source": [
        "import numpy as np\n",
        "import torch\n",
        "import torch.nn as nn\n",
        "import torch.nn.functional as F\n",
        "import torch.utils.data as utils\n",
        "import os"
      ],
      "execution_count": null,
      "outputs": []
    },
    {
      "cell_type": "markdown",
      "metadata": {
        "id": "fiyEZ6CiI0U6"
      },
      "source": [
        "#**CNN Architectures**\n",
        "\n",
        "Reference : [Link](https://d2l.ai/chapter_convolutional-modern/densenet.html)\n",
        "\n",
        "\n",
        "\n",
        "### 1.   LeNet\n",
        "<img src = \"https://d2l.ai/_images/lenet.svg\">\n",
        "<img src= \"https://d2l.ai/_images/lenet-vert.svg\">\n",
        "\n",
        "\n",
        "\n",
        "### 2.   AlexNet\n",
        "\n",
        "<img src = \"https://d2l.ai/_images/alexnet.svg\">\n",
        "\n",
        "LeNet on the left and ALexNet on the right\n",
        "\n",
        "### 3.   VGG( Visual Geometry Group )\n",
        "\n",
        "<img src = \"https://d2l.ai/_images/vgg.svg\">\n",
        "\n",
        "\n",
        "### 4.   Network in Network (NiN)\n",
        "\n",
        "<img src = \"https://d2l.ai/_images/nin.svg\">\n",
        "\n",
        "\n",
        "### 5.   GoogLeNet\n",
        "\n",
        "<img src = \"https://d2l.ai/_images/inception-full.svg\">\n",
        "\n",
        "### 6.   ResNet\n",
        "\n",
        "<img src = \"https://d2l.ai/_images/residual-block.svg\">\n",
        "\n",
        "A regular block (left) and a residual block (right).\n",
        "\n",
        "### 6.   DenseNet\n",
        "\n",
        "<img src = \"https://d2l.ai/_images/densenet-block.svg\">\n",
        "\n",
        "The main difference between ResNet (left) and DenseNet (right) in cross-layer connections: use of addition and use of concatenation.¶\n",
        "\n"
      ]
    },
    {
      "cell_type": "markdown",
      "metadata": {
        "id": "rkRnFo4OdT3l"
      },
      "source": [
        "# **Cross Entropy Loss**\n",
        "\n",
        "Formula :\n",
        "\n",
        "\n",
        "${\\displaystyle H(p,q)=-\\sum _{x\\in {\\mathcal {X}}}p(x)\\,\\log q(x)}$\n",
        "\n",
        "${\\displaystyle \\operatorname {E} _{p}[l]=-\\operatorname {E} _{p}\\left[{\\frac {\\ln {q(x)}}{\\ln(2)}}\\right]=-\\operatorname {E} _{p}\\left[\\log _{2}{q(x)}\\right]=-\\sum _{x_{i}}p(x_{i})\\,\\log _{2}{q(x_{i})}=-\\sum _{x}p(x)\\,\\log _{2}q(x)=H(p,q)}$\n",
        "\n",
        "Range : $H(y,y') \\rightarrow R\\geq 0$, and $\\infty ∉\\mathbb{R}$\n",
        "\n",
        "Maximum Value = $\\infty$\n",
        "\n",
        "Minimum Value = 0"
      ]
    },
    {
      "cell_type": "markdown",
      "metadata": {
        "id": "DsG0eV58ffZy"
      },
      "source": [
        "**Calculator : 1 Dimension Case only**\n",
        "\n",
        "For general Use the Cross entropy loss using Pytorch\n",
        "\n",
        "Documentation : [Pytorch](https://www.google.com/url?sa=t&rct=j&q=&esrc=s&source=web&cd=&ved=2ahUKEwiA5-OC-6ntAhXRuHEKHY6uA5UQFjAAegQIAxAC&url=https%3A%2F%2Fpytorch.org%2Fdocs%2Fstable%2Fgenerated%2Ftorch.nn.CrossEntropyLoss.html&usg=AOvVaw09Gz487qgEWWScJ_aSddK-)\n",
        "\n",
        "\n",
        "\n",
        "```\n",
        "loss = nn.CrossEntropyLoss()\n",
        "input = torch.randn(3, 5, requires_grad=True)\n",
        "target = torch.empty(3, dtype=torch.long).random_(5)\n",
        "output = loss(input, target)\n",
        "output.backward()\n",
        "```\n",
        "\n",
        "\n",
        "\n"
      ]
    },
    {
      "cell_type": "code",
      "metadata": {
        "colab": {
          "base_uri": "https://localhost:8080/"
        },
        "id": "E6JRrseUQEXS",
        "outputId": "9bb9899d-fc25-419c-c821-9c2598e1faca"
      },
      "source": [
        "loss = nn.CrossEntropyLoss()\n",
        "predicted = input(\"Please enter the values : \").split(\",\")\n",
        "predicted = [float(i) for i in predicted]\n",
        "predicted = np.array(predicted)\n",
        "inputed = torch.from_numpy(predicted)\n",
        "inputed = torch.tensor(predicted)\n",
        "log_dist = torch.log(inputed)\n",
        "log_dist[torch.isnan(log_dist)] = 0\n",
        "print(\"Predicted Log distribution values are : \",log_dist)\n",
        "truth_value = input(\"Please enter the ground truth values : \").split(\",\")\n",
        "truth_value = [float(i) for i in truth_value]\n",
        "truth_value = np.array(truth_value)\n",
        "print(\"Target values are : \",truth_value)\n",
        "target = torch.from_numpy(truth_value)\n",
        "target = torch.tensor(truth_value)\n",
        "output = -torch.dot(target,log_dist)\n",
        "print(output)"
      ],
      "execution_count": null,
      "outputs": [
        {
          "output_type": "stream",
          "text": [
            "Please enter the values : -0.1,12.0,3.0,-3.2,-8.0,17.0,1.9,0.6,4.9,-12.0\n",
            "Predicted Log distribution values are :  tensor([ 0.0000,  2.4849,  1.0986,  0.0000,  0.0000,  2.8332,  0.6419, -0.5108,\n",
            "         1.5892,  0.0000], dtype=torch.float64)\n",
            "Please enter the ground truth values : 0,1,0,0,0,0,0,0,0,0\n",
            "Target values are :  [0. 1. 0. 0. 0. 0. 0. 0. 0. 0.]\n",
            "tensor(-2.4849, dtype=torch.float64)\n"
          ],
          "name": "stdout"
        }
      ]
    },
    {
      "cell_type": "markdown",
      "metadata": {
        "id": "Cf2v8qzQG39f"
      },
      "source": [
        "# **Gradient Descent Algorithm**\n",
        "\n",
        "<img src = \"https://miro.medium.com/max/2284/1*jNyE54fTVOH1203IwYeNEg.png\">\n",
        "\n",
        "<img src = \"https://2.bp.blogspot.com/-ZxJ87cWjPJ8/TtLtwqv0hCI/AAAAAAAAAV0/9FYqcxJ6dNY/s1600/gradient+descent+algorithm+OLS.png\">\n"
      ]
    },
    {
      "cell_type": "code",
      "metadata": {
        "colab": {
          "base_uri": "https://localhost:8080/"
        },
        "id": "jgJQG1x5dQI7",
        "outputId": "eef099c0-7134-48d7-83eb-1d24f4e6d185"
      },
      "source": [
        "from sympy import *\n",
        "from IPython.display import display, Latex\n",
        "\n",
        "x = Symbol('x')\n",
        "y = Symbol('y')\n",
        "\n",
        "f = x**2 + y**4\n",
        "\n",
        "#Partial Derivaties and Gradient found\n",
        "fpx = f.diff(x)\n",
        "fpy = f.diff(y)\n",
        "grad = [fpx,fpy]\n",
        "\n",
        "theta = 0.75  #x\n",
        "theta1 = 0.75 #y\n",
        "alpha = .01 # step size\n",
        "iterations = 0\n",
        "precision = 1/1000000\n",
        "printData = True\n",
        "maxIterations = 3\n",
        "\n",
        "while True:\n",
        "    temptheta = theta - alpha*N(fpx.subs(x,theta).subs(y,theta1)).evalf()\n",
        "    temptheta1 = theta1 - alpha*N(fpy.subs(y,theta1)).subs(x,theta).evalf()\n",
        "\n",
        "    # Break and exit the loop for number of iterations\n",
        "    iterations += 1\n",
        "    if iterations > maxIterations:\n",
        "      break\n",
        "\n",
        "    #If the value of theta changes less of a certain amount, our goal is met.\n",
        "    if abs(temptheta-theta) < precision and abs(temptheta1-theta1) < precision:\n",
        "        break\n",
        "\n",
        "    #Simultaneous update\n",
        "    theta = temptheta\n",
        "    theta1 = temptheta1\n",
        "    print(\"Number of iterations:\",iterations,sep=\" \")\n",
        "    print(\"Theta Value for x(x0) =\",temptheta,sep=\" \")\n",
        "    print(\"Theta1 Value for y(y0) =\",temptheta1,sep=\" \") \n",
        "\n",
        "if printData:\n",
        "    print(\"\")\n",
        "    print(\"Final Result \")\n",
        "    pprint(\"The function is \"+str(f))\n",
        "    print(\"Number of iterations:\",iterations,sep=\" \")\n",
        "    print(\"Theta Value for x(x0) =\",temptheta,sep=\" \")\n",
        "    print(\"Theta1 Value for y(y0) =\",temptheta1,sep=\" \") \n",
        "\n",
        "    "
      ],
      "execution_count": null,
      "outputs": [
        {
          "output_type": "stream",
          "text": [
            "Number of iterations: 1\n",
            "Theta Value for x(x0) = 0.735000000000000\n",
            "Theta1 Value for y(y0) = 0.733125000000000\n",
            "Number of iterations: 2\n",
            "Theta Value for x(x0) = 0.720300000000000\n",
            "Theta1 Value for y(y0) = 0.717363625810547\n",
            "Number of iterations: 3\n",
            "Theta Value for x(x0) = 0.705894000000000\n",
            "Theta1 Value for y(y0) = 0.702597109588576\n",
            "\n",
            "Final Result \n",
            "The function is x**2 + y**4\n",
            "Number of iterations: 4\n",
            "Theta Value for x(x0) = 0.691776120000000\n",
            "Theta1 Value for y(y0) = 0.688723832265900\n"
          ],
          "name": "stdout"
        }
      ]
    },
    {
      "cell_type": "markdown",
      "metadata": {
        "id": "ar7aNFMLkiH9"
      },
      "source": [
        "# **Number of Learnable Parameters Calculator**\n",
        "\n",
        "Reference : [Medium Article](https://medium.com/@iamvarman/how-to-calculate-the-number-of-parameters-in-the-cnn-5bd55364d7ca)\n",
        "\n",
        "\n",
        "1.   Input layer : All the input layer does is read the image. So, there are no parameters learn in here.\n",
        "\n",
        "2.   Convolutional Layer : Consider a convolutional layer which takes $l$ feature maps as the input and has $k$ feature maps as output. The filter size is $n*m$.\n",
        "Example : input has $l=32$ feature maps as inputs, $k=64$ feature maps as outputs and filter size is $n=3$ and $m=3$. It is important to understand, that we don’t simply have a $3*3$ filter, but actually, we have $3*3*32$ filter, as our input has $32$ dimensions. And as an output from first conv layer, we learn 64 different $3*3*32$ filters which total weights is $n*m*k*l$. Then there is a term called bias for each feature map. So, the total number of parameters are $(n*m*l+1)*k$.\n",
        "\n",
        "\n",
        "3. Pooling(Max/Avg) Layer: There are no parameters you could learn in pooling layer. This layer is just used to reduce the image dimension size.\n",
        "\n",
        "4. Fully-connected Layer: In this layer, all inputs units have a separable weight to each output unit. For $n$ inputs and $m$ outputs, the number of weights is $n*m$. Additionally, this layer has the bias for each output node, so $(n+1)*m$ parameters.\n",
        "\n",
        "5. Output Layer: This layer is the fully connected layer, so $(n+1)*m$ parameters, when $n$ is the number of inputs and $m$ is the number of outputs."
      ]
    },
    {
      "cell_type": "code",
      "metadata": {
        "colab": {
          "base_uri": "https://localhost:8080/"
        },
        "id": "GBNG5l8ckhuH",
        "outputId": "cb1851dc-efe1-4c0a-d632-a1022d5ba92f"
      },
      "source": [
        "option = int(input(\"Please enter your option from 1 - 5 : \"))\n",
        "if option == 1:\n",
        "  print(\"Input layer has 0 parameters\")\n",
        "elif option == 2:\n",
        "  print(\"Convolutional Layer : \")\n",
        "  input_features = int(input(\"Please enter the number of input_Features : \"))\n",
        "  output_features = int(input(\"Please enter the number of output_Features : \"))\n",
        "  filter_size = (input(\"Please enter the filter size : \")).split()\n",
        "  filter_size = [int(i) for i in filter_size]\n",
        "  print(\"Total Number of learnable parameters with bias is : \", (filter_size[0]*filter_size[1]*input_features + 1)*output_features)\n",
        "  print(\"Total Number of learnable parameters without bias is : \", (filter_size[0]*filter_size[1]*input_features)*output_features)\n",
        "elif option == 3:\n",
        "  print(\"Pooling layer has 0 parameters\")\n",
        "elif option == 4:\n",
        "  print(\"Fully connected Layer : \")\n",
        "  input_features = int(input(\"Please enter the number of inputs : \"))\n",
        "  output_features = int(input(\"Please enter the number of outputs : \"))\n",
        "  print(\"Total Number of learnable parameters with bias is : \", (input_features + 1)*output_features)\n",
        "  print(\"Total Number of learnable parameters without bias is : \", (input_features)*output_features)\n",
        "else:\n",
        "  print(\"Output Layer : \")\n",
        "  input_features = int(input(\"Please enter the number of inputs : \"))\n",
        "  output_features = int(input(\"Please enter the number of outputs : \"))\n",
        "  print(\"Total Number of learnable parameters with bias is : \", (input_features + 1)*output_features)\n",
        "  print(\"Total Number of learnable parameters without bias is : \", (input_features)*output_features)"
      ],
      "execution_count": null,
      "outputs": [
        {
          "output_type": "stream",
          "text": [
            "Please enter your option from 1 - 5 : 2\n",
            "Convolutional Layer : \n",
            "Please enter the number of input_Features : 32\n",
            "Please enter the number of output_Features : 64\n",
            "Please enter the filter size : 3 3\n",
            "Total Number of learnable parameters with bias is :  18496\n",
            "Total Number of learnable parameters without bias is :  18432\n"
          ],
          "name": "stdout"
        }
      ]
    },
    {
      "cell_type": "markdown",
      "metadata": {
        "id": "iHc1CiJ6Zktk"
      },
      "source": [
        "# **Convolution Layer/Pooling**\n",
        "\n",
        "\n",
        "Reference : [Link](https://d2l.ai/chapter_convolutional-neural-networks/channels.html)\n",
        "\n",
        "1.   [One channel ](https://colab.research.google.com/drive/1hIfhMJpiQC_le7fiSa5E0B5B-GsYE5u1#scrollTo=q8UohGir4oT4&line=10&uniqifier=1)\n",
        "\n",
        "    1.1 [Pooling](https://colab.research.google.com/drive/1hIfhMJpiQC_le7fiSa5E0B5B-GsYE5u1#scrollTo=VxS0hVzWFSwR&line=8&uniqifier=1)\n",
        "\n",
        "2. [Multiple Channels](https://colab.research.google.com/drive/1hIfhMJpiQC_le7fiSa5E0B5B-GsYE5u1#scrollTo=MiwYsAZ26wuk&line=5&uniqifier=1)\n",
        "\n",
        "    2.1 [Pooling](https://colab.research.google.com/drive/1hIfhMJpiQC_le7fiSa5E0B5B-GsYE5u1#scrollTo=riufTcYbIMkE&line=2&uniqifier=1) "
      ]
    },
    {
      "cell_type": "code",
      "metadata": {
        "id": "C2GW2VyM4iVp"
      },
      "source": [
        "from d2l import torch as d2\n",
        "import torch\n",
        "from torch import nn\n",
        "\n",
        "def corr2d(X, K):\n",
        "    h, w = K.shape\n",
        "    Y = torch.zeros((X.shape[0] - h + 1, X.shape[1] - w + 1))\n",
        "    for i in range(Y.shape[0]):\n",
        "        for j in range(Y.shape[1]):\n",
        "            Y[i, j] = d2.reduce_sum((X[i: i + h, j: j + w] * K))\n",
        "    return Y"
      ],
      "execution_count": 19,
      "outputs": []
    },
    {
      "cell_type": "code",
      "metadata": {
        "colab": {
          "base_uri": "https://localhost:8080/"
        },
        "id": "q8UohGir4oT4",
        "outputId": "ba68c7a2-6d9e-44e6-e808-9073a762fe03"
      },
      "source": [
        "I = int(input(\"How many rows do you want to enter for the Convolution Input Layer : \"))\n",
        "I_1 = []\n",
        "for i in range(I):\n",
        "  r = input(\"Enter row \" + str(i+1) + \": \").split()\n",
        "  r = [float(i) for i in r]\n",
        "  I_1.append(r)\n",
        "W = int(input(\"How many rows do you want to enter for the Filter Matrix : \"))\n",
        "I_2 = []\n",
        "for i in range(W):\n",
        "  r = input(\"Enter row \" + str(i+1) + \": \").split()\n",
        "  r = [float(i) for i in r]\n",
        "  I_2.append(r)\n",
        "X = torch.tensor(I_1)\n",
        "K = torch.tensor(I_2)\n",
        "corr2d(X, K)"
      ],
      "execution_count": null,
      "outputs": [
        {
          "output_type": "stream",
          "text": [
            "How many rows do you want to enter for the Convolution Input Layer : 4\n",
            "Enter row 11 3 2 4 6 4\n",
            "Enter row 24 8 3 1 0 2\n",
            "Enter row 32 1 4 3 9 1\n",
            "Enter row 44 7 2 3 9 2\n",
            "How many rows do you want to enter for the Filter Matrix : 3\n",
            "Enter row 1-1 0 1\n",
            "Enter row 2-1 0 1\n",
            "Enter row 3-1 0 1\n"
          ],
          "name": "stdout"
        },
        {
          "output_type": "execute_result",
          "data": {
            "text/plain": [
              "tensor([[ 2., -4.,  6., -1.],\n",
              "        [-1., -9.,  9., -2.]])"
            ]
          },
          "metadata": {
            "tags": []
          },
          "execution_count": 9
        }
      ]
    },
    {
      "cell_type": "code",
      "metadata": {
        "id": "g8J9CpgI7q43"
      },
      "source": [
        "from d2l import torch as d2l\n",
        "import torch\n",
        "from torch import nn\n",
        "\n",
        "def pool2d(X, pool_size, mode='max'):\n",
        "    p_h, p_w = pool_size\n",
        "    Y = torch.zeros((X.shape[0] - p_h + 1, X.shape[1] - p_w + 1))\n",
        "    for i in range(Y.shape[0]):\n",
        "        for j in range(Y.shape[1]):\n",
        "            if mode == 'max':\n",
        "                Y[i, j] = X[i: i + p_h, j: j + p_w].max()\n",
        "            elif mode == 'avg':\n",
        "                Y[i, j] = X[i: i + p_h, j: j + p_w].mean()\n",
        "    return Y"
      ],
      "execution_count": 20,
      "outputs": []
    },
    {
      "cell_type": "code",
      "metadata": {
        "colab": {
          "base_uri": "https://localhost:8080/"
        },
        "id": "VxS0hVzWFSwR",
        "outputId": "6e889354-bb0a-45dc-814f-f770407f4b3d"
      },
      "source": [
        "I = int(input(\"How many rows do you want to enter for the Convolution Input Layer : \"))\n",
        "I_1 = []\n",
        "for i in range(I):\n",
        "  r = input(\"Enter row \" + str(i+1) + \": \").split()\n",
        "  r = [float(i) for i in r]\n",
        "  I_1.append(r)\n",
        "X = torch.tensor(I_1)\n",
        "pool2d(X, (2, 2))"
      ],
      "execution_count": 23,
      "outputs": [
        {
          "output_type": "stream",
          "text": [
            "How many rows do you want to enter for the Convolution Input Layer : 2\n",
            "Enter row 1: 1 2 3\n",
            "Enter row 2: 1 2 3\n"
          ],
          "name": "stdout"
        },
        {
          "output_type": "execute_result",
          "data": {
            "text/plain": [
              "tensor([[2., 3.]])"
            ]
          },
          "metadata": {
            "tags": []
          },
          "execution_count": 23
        }
      ]
    },
    {
      "cell_type": "code",
      "metadata": {
        "colab": {
          "base_uri": "https://localhost:8080/"
        },
        "id": "I1XdkNEGHeiv",
        "outputId": "27433f89-3957-47ff-d6fe-b7ec8ff09dc1"
      },
      "source": [
        "X = d2l.reshape(torch.arange(16, dtype=torch.float32), (1, 1, 4, 4))\n",
        "pool2d = nn.MaxPool2d(2)\n",
        "pool2d(X)"
      ],
      "execution_count": 26,
      "outputs": [
        {
          "output_type": "execute_result",
          "data": {
            "text/plain": [
              "tensor([[[[ 5.,  7.],\n",
              "          [13., 15.]]]])"
            ]
          },
          "metadata": {
            "tags": []
          },
          "execution_count": 26
        }
      ]
    },
    {
      "cell_type": "markdown",
      "metadata": {
        "id": "KNEkymC169CB"
      },
      "source": [
        "## **Multiple Channels**"
      ]
    },
    {
      "cell_type": "code",
      "metadata": {
        "id": "y-62Bvpc6pSz"
      },
      "source": [
        "from d2l import torch as d2\n",
        "import torch\n",
        "\n",
        "def corr2d_multi_in(X, K):\n",
        "    return sum(d2.corr2d(x, k) for x, k in zip(X, K))"
      ],
      "execution_count": null,
      "outputs": []
    },
    {
      "cell_type": "code",
      "metadata": {
        "colab": {
          "base_uri": "https://localhost:8080/"
        },
        "id": "MiwYsAZ26wuk",
        "outputId": "173e7eb1-34ce-48c2-8ad9-a43971224458"
      },
      "source": [
        "cnn_final = []\n",
        "filter_final = []\n",
        "channel = int(input(\"How many channels do you have : \"))\n",
        "for i in range(channel):\n",
        "  I = int(input(\"How many rows do you want to enter for the Convolution Input Layer \" + str(i+1) +\": \"))\n",
        "  I_1 = []\n",
        "  for i in range(I):\n",
        "    r = input(\"Enter row \" + str(i+1) + \": \").split()\n",
        "    r = [float(i) for i in r]\n",
        "    I_1.append(r)\n",
        "  cnn_final.append(I_1)\n",
        "  W = int(input(\"How many rows do you want to enter for the Filter Matrix \"+ str(i+1) +\": \"))\n",
        "  I_2 = []\n",
        "  for i in range(W):\n",
        "    r = input(\"Enter row \" + str(i+1) + \": \").split()\n",
        "    r = [float(i) for i in r]\n",
        "    I_2.append(r)\n",
        "  filter_final.append(I_2)\n",
        "\n",
        "X = torch.tensor(cnn_final)\n",
        "K = torch.tensor(filter_final)\n",
        "\n",
        "corr2d_multi_in(X, K)"
      ],
      "execution_count": null,
      "outputs": [
        {
          "output_type": "execute_result",
          "data": {
            "text/plain": [
              "tensor([[ 56.,  72.],\n",
              "        [104., 120.]])"
            ]
          },
          "metadata": {
            "tags": []
          },
          "execution_count": 11
        }
      ]
    },
    {
      "cell_type": "code",
      "metadata": {
        "id": "MYnark9bIJ5Q"
      },
      "source": [
        "X = torch.cat((X, X + 1), 1)"
      ],
      "execution_count": 27,
      "outputs": []
    },
    {
      "cell_type": "code",
      "metadata": {
        "colab": {
          "base_uri": "https://localhost:8080/"
        },
        "id": "riufTcYbIMkE",
        "outputId": "815477b8-2840-41b2-9aa2-1e9d1b6f9fa3"
      },
      "source": [
        "padding1 = int(input(\"please enter the padding size : \"))\n",
        "stride1 = int(input(\"please enter the stride size : \"))\n",
        "pool2d = nn.MaxPool2d(3, padding=padding1, stride=stride1)\n",
        "pool2d(X)"
      ],
      "execution_count": 29,
      "outputs": [
        {
          "output_type": "stream",
          "text": [
            "please enter the padding size : 1\n",
            "please enter the stride size : 2\n"
          ],
          "name": "stdout"
        },
        {
          "output_type": "execute_result",
          "data": {
            "text/plain": [
              "tensor([[[[ 5.,  7.],\n",
              "          [13., 15.]],\n",
              "\n",
              "         [[ 6.,  8.],\n",
              "          [14., 16.]]]])"
            ]
          },
          "metadata": {
            "tags": []
          },
          "execution_count": 29
        }
      ]
    }
  ]
}