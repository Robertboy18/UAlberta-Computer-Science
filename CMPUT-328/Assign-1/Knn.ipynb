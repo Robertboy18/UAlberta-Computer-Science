{
  "nbformat": 4,
  "nbformat_minor": 0,
  "metadata": {
    "colab": {
      "name": "Knn.ipynb",
      "provenance": [],
      "collapsed_sections": []
    },
    "kernelspec": {
      "name": "python3",
      "display_name": "Python 3"
    }
  },
  "cells": [
    {
      "cell_type": "code",
      "metadata": {
        "id": "Sm52Xo0LBb-B",
        "colab_type": "code",
        "colab": {}
      },
      "source": [
        "import torch\n",
        "from torchvision import datasets, transforms\n",
        "import numpy as np\n",
        "import timeit\n",
        "from collections import OrderedDict\n",
        "from pprint import pformat"
      ],
      "execution_count": 1,
      "outputs": []
    },
    {
      "cell_type": "code",
      "metadata": {
        "id": "vUs6oDnrBg5h",
        "colab_type": "code",
        "colab": {}
      },
      "source": [
        "min_thres = 0.84\n",
        "max_thres = 0.94\n",
        "n_classes = 10\n",
        "# change to cpu to run on CPU\n",
        "device = 'gpu'\n",
        "\n",
        "mnist_train = datasets.MNIST('data', train=True, download=True,\n",
        "                             transform=transforms.Compose([\n",
        "                                 transforms.Normalize((0.1307,), (0.3081,)),\n",
        "                             ])\n",
        "                             )\n",
        "mnist_test = datasets.MNIST('data', train=False, download=True,\n",
        "                             transform=transforms.Compose([\n",
        "                                 transforms.Normalize((0.1307,), (0.3081,)),\n",
        "                             ])\n",
        "                            )\n",
        "# result = [OrderedDict(first_name='Robert',last_name='Joseph')]\n",
        "\n",
        "# convert pytorch tensors to numpy arrays\n",
        "(x_train, y_train) = (mnist_train.data.cpu().numpy(), mnist_train.targets.cpu().numpy())\n",
        "(x_valid, y_valid) = (mnist_test.data.cpu().numpy(), mnist_test.targets.cpu().numpy())\n",
        "\n",
        "# flatten 28x28 images into 784 sized vectors\n",
        "x_train = x_train.reshape(x_train.shape[0], -1)\n",
        "x_valid = x_valid.reshape(x_valid.shape[0], -1)\n",
        "\n",
        "(x_valid, y_valid) = (x_valid[:1000], y_valid[:1000])\n"
      ],
      "execution_count": 3,
      "outputs": []
    },
    {
      "cell_type": "code",
      "metadata": {
        "id": "AAi2_zbOCVPE",
        "colab_type": "code",
        "colab": {}
      },
      "source": [
        "from sklearn.preprocessing import StandardScaler\n",
        "scaler = StandardScaler()\n",
        "scaler.fit(x_train)\n",
        "\n",
        "x_train = scaler.transform(x_train)\n",
        "x_valid = scaler.transform(x_valid)"
      ],
      "execution_count": 6,
      "outputs": []
    },
    {
      "cell_type": "code",
      "metadata": {
        "id": "00mKO1x1C5nE",
        "colab_type": "code",
        "colab": {
          "base_uri": "https://localhost:8080/",
          "height": 70
        },
        "outputId": "3f852cee-f2ee-472b-8dfd-00e0d254e445"
      },
      "source": [
        "from sklearn.neighbors import KNeighborsClassifier\n",
        "classifier = KNeighborsClassifier(n_neighbors=1)\n",
        "classifier.fit(x_train, y_train)"
      ],
      "execution_count": 14,
      "outputs": [
        {
          "output_type": "execute_result",
          "data": {
            "text/plain": [
              "KNeighborsClassifier(algorithm='auto', leaf_size=30, metric='minkowski',\n",
              "                     metric_params=None, n_jobs=None, n_neighbors=1, p=2,\n",
              "                     weights='uniform')"
            ]
          },
          "metadata": {
            "tags": []
          },
          "execution_count": 14
        }
      ]
    },
    {
      "cell_type": "code",
      "metadata": {
        "id": "S5f-I2GvC0ea",
        "colab_type": "code",
        "colab": {}
      },
      "source": [
        "ypreds = classifier.predict(x_valid)"
      ],
      "execution_count": 15,
      "outputs": []
    },
    {
      "cell_type": "code",
      "metadata": {
        "id": "IDuwbuelDO0w",
        "colab_type": "code",
        "colab": {
          "base_uri": "https://localhost:8080/",
          "height": 492
        },
        "outputId": "2cefa49c-98cf-4a07-d3a5-b12fc693f658"
      },
      "source": [
        "from sklearn.metrics import classification_report, confusion_matrix\n",
        "print(confusion_matrix(y_valid, ypreds))\n",
        "print(classification_report(y_valid, ypreds))"
      ],
      "execution_count": 16,
      "outputs": [
        {
          "output_type": "stream",
          "text": [
            "[[ 84   0   0   0   0   0   1   0   0   0]\n",
            " [  0 125   0   0   0   0   1   0   0   0]\n",
            " [  1   3 103   2   1   0   0   3   3   0]\n",
            " [  0   0   0 102   0   1   0   1   1   2]\n",
            " [  0   1   1   0 101   0   1   0   1   5]\n",
            " [  0   0   0   3   1  78   0   0   3   2]\n",
            " [  2   0   0   0   0   0  85   0   0   0]\n",
            " [  0   0   2   1   0   0   0  94   0   2]\n",
            " [  2   0   1   4   0   2   0   0  79   1]\n",
            " [  0   0   0   1   2   0   0   2   2  87]]\n",
            "              precision    recall  f1-score   support\n",
            "\n",
            "           0       0.94      0.99      0.97        85\n",
            "           1       0.97      0.99      0.98       126\n",
            "           2       0.96      0.89      0.92       116\n",
            "           3       0.90      0.95      0.93       107\n",
            "           4       0.96      0.92      0.94       110\n",
            "           5       0.96      0.90      0.93        87\n",
            "           6       0.97      0.98      0.97        87\n",
            "           7       0.94      0.95      0.94        99\n",
            "           8       0.89      0.89      0.89        89\n",
            "           9       0.88      0.93      0.90        94\n",
            "\n",
            "    accuracy                           0.94      1000\n",
            "   macro avg       0.94      0.94      0.94      1000\n",
            "weighted avg       0.94      0.94      0.94      1000\n",
            "\n"
          ],
          "name": "stdout"
        }
      ]
    },
    {
      "cell_type": "code",
      "metadata": {
        "id": "yxuW_csmEGST",
        "colab_type": "code",
        "colab": {}
      },
      "source": [
        "error = []\n",
        "# Calculating error for K values between 1 and 5\n",
        "for i in range(1, 5):\n",
        "    knn = KNeighborsClassifier(n_neighbors=i)\n",
        "    knn.fit(x_train, y_train)\n",
        "    pred_i = knn.predict(x_valid)\n",
        "    error.append(np.mean(pred_i != y_valid))"
      ],
      "execution_count": 20,
      "outputs": []
    },
    {
      "cell_type": "code",
      "metadata": {
        "id": "OaKAECAeEV0L",
        "colab_type": "code",
        "colab": {
          "base_uri": "https://localhost:8080/",
          "height": 422
        },
        "outputId": "047ac229-1992-4044-d043-5c3457267fd5"
      },
      "source": [
        "import matplotlib.pyplot as plt\n",
        "plt.figure(figsize=(12, 6))\n",
        "plt.plot(range(1, 5), error, color='red', linestyle='dashed', marker='o',\n",
        "         markerfacecolor='blue', markersize=10)\n",
        "plt.title('Error Rate K Value')\n",
        "plt.xlabel('K Value')\n",
        "plt.ylabel('Mean Error')"
      ],
      "execution_count": 21,
      "outputs": [
        {
          "output_type": "execute_result",
          "data": {
            "text/plain": [
              "Text(0, 0.5, 'Mean Error')"
            ]
          },
          "metadata": {
            "tags": []
          },
          "execution_count": 21
        },
        {
          "output_type": "display_data",
          "data": {
            "image/png": "[encoded data removed]",
            "text/plain": [
              "<Figure size 864x432 with 1 Axes>"
            ]
          },
          "metadata": {
            "tags": [],
            "needs_background": "light"
          }
        }
      ]
    },
    {
      "cell_type": "code",
      "metadata": {
        "id": "m5s_FLshENSy",
        "colab_type": "code",
        "colab": {}
      },
      "source": [
        ""
      ],
      "execution_count": null,
      "outputs": []
    }
  ]
}